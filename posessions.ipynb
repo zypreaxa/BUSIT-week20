{
 "cells": [
  {
   "cell_type": "markdown",
   "metadata": {},
   "source": [
    "## Definition of possession and possession events"
   ]
  },
  {
   "cell_type": "markdown",
   "metadata": {},
   "source": [
    "### What classifies a possession?\n",
    "Possession can be determined by the events, for example: \n",
    "#### Passes [pass, cross, through ball]\n",
    "- More passes -> Longer possession sequences\n",
    "- Successful passes -> Good retention and control\n",
    "- Through balls -> Potentially aggressive possession\n",
    "#### Dribbles (Ball Progression) [carry, take-on, progression]\n",
    "- A successful carry -> Maintains possession\n",
    "- A successful take-on -> Helps break defensive lines\n",
    "- A failed dribble -> Ends possession or leads to a turnover\n",
    "#### Recoveries (Winning Back Possession) [interception, tackle won]\n",
    "- A team with many recoveries -> Aggressive pressing & regains control quickly\n",
    "- Recoveries in the attacking third -> Leads to dangerous possession situations\n",
    "\t\n",
    "#### Shots (this is an end of possession phase) [regular shot, blocked shot, goal, saved shot, missed shot]\n",
    "- A shot is the ideal ending for a possession phase.\n",
    "- If a team gets many shots per possession, they dominate play\n",
    "- If a shot is blocked or saved, possession might continue or switch\n",
    "All of these events are possible only if the team is in possession of the ball.\n",
    "\n",
    "\n",
    "--- \n",
    "### Possession bounds\n",
    "- Start of possession: recovery.\n",
    "- Active possession: passes, dribbles, carries, and everything listed above.\n",
    "- Final event: shot, failed pass, turnover."
   ]
  }
 ],
 "metadata": {
  "language_info": {
   "name": "python"
  }
 },
 "nbformat": 4,
 "nbformat_minor": 2
}
